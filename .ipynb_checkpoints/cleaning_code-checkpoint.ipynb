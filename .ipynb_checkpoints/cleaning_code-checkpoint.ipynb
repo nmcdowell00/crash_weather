{
 "cells": [
  {
   "cell_type": "markdown",
   "id": "1beea924-dbaf-4c40-90ab-00c34b4f9f84",
   "metadata": {},
   "source": [
    "# What Effect Does Weather have on Car Crashes\n",
    "This project will be investigating the role of different weather types in historical crash data. To examine this, I am using Allegheny County Crash Data(2004-2020) from the Western Pennsylvania Regional Data Center. Click [here](https://data.wprdc.org/dataset/allegheny-county-crash-data) to go to the download page. "
   ]
  },
  {
   "cell_type": "code",
   "execution_count": 1,
   "id": "8607b44d-0153-4641-87ce-a863127e4317",
   "metadata": {},
   "outputs": [],
   "source": [
    "import pandas as pd"
   ]
  },
  {
   "cell_type": "markdown",
   "id": "09f0d06b-1f52-436a-956d-8a44187e50a0",
   "metadata": {},
   "source": [
    "### PANDAS\n",
    "PANDAS is a python library that is specifically equipped to work with datasets. We will be using pandas throughout this notebook to manipulate and clean the dataset. "
   ]
  },
  {
   "cell_type": "code",
   "execution_count": 2,
   "id": "982e52d4-c430-4262-b8c0-c31db650ce21",
   "metadata": {},
   "outputs": [
    {
     "name": "stderr",
     "output_type": "stream",
     "text": [
      "<ipython-input-2-b07a036f2e66>:1: DtypeWarning: Columns (19,20,73,77,78,79,80,81,82,83,84,183,189) have mixed types. Specify dtype option on import or set low_memory=False.\n",
      "  df = pd.read_csv(\"crash_data.csv\")\n"
     ]
    }
   ],
   "source": [
    "df = pd.read_csv(\"crash_data.csv\")"
   ]
  },
  {
   "cell_type": "code",
   "execution_count": 3,
   "id": "86fd5955-4021-4848-8530-c2d9221dac67",
   "metadata": {},
   "outputs": [
    {
     "data": {
      "text/html": [
       "<div>\n",
       "<style scoped>\n",
       "    .dataframe tbody tr th:only-of-type {\n",
       "        vertical-align: middle;\n",
       "    }\n",
       "\n",
       "    .dataframe tbody tr th {\n",
       "        vertical-align: top;\n",
       "    }\n",
       "\n",
       "    .dataframe thead th {\n",
       "        text-align: right;\n",
       "    }\n",
       "</style>\n",
       "<table border=\"1\" class=\"dataframe\">\n",
       "  <thead>\n",
       "    <tr style=\"text-align: right;\">\n",
       "      <th></th>\n",
       "      <th>CRASH_CRN</th>\n",
       "      <th>DISTRICT</th>\n",
       "      <th>CRASH_COUNTY</th>\n",
       "      <th>MUNICIPALITY</th>\n",
       "      <th>POLICE_AGCY</th>\n",
       "      <th>CRASH_YEAR</th>\n",
       "      <th>CRASH_MONTH</th>\n",
       "      <th>DAY_OF_WEEK</th>\n",
       "      <th>TIME_OF_DAY</th>\n",
       "      <th>HOUR_OF_DAY</th>\n",
       "      <th>...</th>\n",
       "      <th>LANE_COUNT</th>\n",
       "      <th>RDWY_ORIENT</th>\n",
       "      <th>ROAD_OWNER</th>\n",
       "      <th>ROUTE</th>\n",
       "      <th>SPEED_LIMIT</th>\n",
       "      <th>SEGMENT</th>\n",
       "      <th>OFFSET</th>\n",
       "      <th>STREET_NAME</th>\n",
       "      <th>TOT_INJ_COUNT</th>\n",
       "      <th>SCHOOL_BUS_UNIT</th>\n",
       "    </tr>\n",
       "  </thead>\n",
       "  <tbody>\n",
       "    <tr>\n",
       "      <th>0</th>\n",
       "      <td>2004000001</td>\n",
       "      <td>11</td>\n",
       "      <td>2</td>\n",
       "      <td>2454</td>\n",
       "      <td>02454</td>\n",
       "      <td>2004</td>\n",
       "      <td>1</td>\n",
       "      <td>5</td>\n",
       "      <td>257.0</td>\n",
       "      <td>2.0</td>\n",
       "      <td>...</td>\n",
       "      <td>2.0</td>\n",
       "      <td>E</td>\n",
       "      <td>2.0</td>\n",
       "      <td>2032</td>\n",
       "      <td>35.0</td>\n",
       "      <td>10.0</td>\n",
       "      <td>1000.0</td>\n",
       "      <td>LEWIS RUN RD</td>\n",
       "      <td>NaN</td>\n",
       "      <td>NaN</td>\n",
       "    </tr>\n",
       "    <tr>\n",
       "      <th>1</th>\n",
       "      <td>2004000010</td>\n",
       "      <td>11</td>\n",
       "      <td>2</td>\n",
       "      <td>2440</td>\n",
       "      <td>02440</td>\n",
       "      <td>2004</td>\n",
       "      <td>1</td>\n",
       "      <td>5</td>\n",
       "      <td>1027.0</td>\n",
       "      <td>10.0</td>\n",
       "      <td>...</td>\n",
       "      <td>2.0</td>\n",
       "      <td>W</td>\n",
       "      <td>3.0</td>\n",
       "      <td>NaN</td>\n",
       "      <td>35.0</td>\n",
       "      <td>NaN</td>\n",
       "      <td>NaN</td>\n",
       "      <td>COAL VALLEY RD</td>\n",
       "      <td>NaN</td>\n",
       "      <td>NaN</td>\n",
       "    </tr>\n",
       "    <tr>\n",
       "      <th>2</th>\n",
       "      <td>2004000016</td>\n",
       "      <td>11</td>\n",
       "      <td>2</td>\n",
       "      <td>2203</td>\n",
       "      <td>02203</td>\n",
       "      <td>2004</td>\n",
       "      <td>1</td>\n",
       "      <td>5</td>\n",
       "      <td>1839.0</td>\n",
       "      <td>18.0</td>\n",
       "      <td>...</td>\n",
       "      <td>2.0</td>\n",
       "      <td>W</td>\n",
       "      <td>2.0</td>\n",
       "      <td>3082</td>\n",
       "      <td>35.0</td>\n",
       "      <td>NaN</td>\n",
       "      <td>NaN</td>\n",
       "      <td>CLINTON FRANKFORT RD</td>\n",
       "      <td>NaN</td>\n",
       "      <td>NaN</td>\n",
       "    </tr>\n",
       "    <tr>\n",
       "      <th>3</th>\n",
       "      <td>2004000022</td>\n",
       "      <td>11</td>\n",
       "      <td>2</td>\n",
       "      <td>2404</td>\n",
       "      <td>02404</td>\n",
       "      <td>2004</td>\n",
       "      <td>1</td>\n",
       "      <td>6</td>\n",
       "      <td>914.0</td>\n",
       "      <td>9.0</td>\n",
       "      <td>...</td>\n",
       "      <td>2.0</td>\n",
       "      <td>N</td>\n",
       "      <td>4.0</td>\n",
       "      <td>NaN</td>\n",
       "      <td>25.0</td>\n",
       "      <td>NaN</td>\n",
       "      <td>NaN</td>\n",
       "      <td>NORTH BALPH AV</td>\n",
       "      <td>NaN</td>\n",
       "      <td>NaN</td>\n",
       "    </tr>\n",
       "    <tr>\n",
       "      <th>4</th>\n",
       "      <td>2004000030</td>\n",
       "      <td>11</td>\n",
       "      <td>2</td>\n",
       "      <td>2419</td>\n",
       "      <td>02419</td>\n",
       "      <td>2004</td>\n",
       "      <td>1</td>\n",
       "      <td>5</td>\n",
       "      <td>2230.0</td>\n",
       "      <td>22.0</td>\n",
       "      <td>...</td>\n",
       "      <td>2.0</td>\n",
       "      <td>S</td>\n",
       "      <td>4.0</td>\n",
       "      <td>NaN</td>\n",
       "      <td>20.0</td>\n",
       "      <td>NaN</td>\n",
       "      <td>NaN</td>\n",
       "      <td>THORNBERRY DR</td>\n",
       "      <td>NaN</td>\n",
       "      <td>NaN</td>\n",
       "    </tr>\n",
       "  </tbody>\n",
       "</table>\n",
       "<p>5 rows × 190 columns</p>\n",
       "</div>"
      ],
      "text/plain": [
       "    CRASH_CRN  DISTRICT  CRASH_COUNTY  MUNICIPALITY POLICE_AGCY  CRASH_YEAR  \\\n",
       "0  2004000001        11             2          2454       02454        2004   \n",
       "1  2004000010        11             2          2440       02440        2004   \n",
       "2  2004000016        11             2          2203       02203        2004   \n",
       "3  2004000022        11             2          2404       02404        2004   \n",
       "4  2004000030        11             2          2419       02419        2004   \n",
       "\n",
       "   CRASH_MONTH  DAY_OF_WEEK  TIME_OF_DAY  HOUR_OF_DAY  ...  LANE_COUNT  \\\n",
       "0            1            5        257.0          2.0  ...         2.0   \n",
       "1            1            5       1027.0         10.0  ...         2.0   \n",
       "2            1            5       1839.0         18.0  ...         2.0   \n",
       "3            1            6        914.0          9.0  ...         2.0   \n",
       "4            1            5       2230.0         22.0  ...         2.0   \n",
       "\n",
       "   RDWY_ORIENT  ROAD_OWNER  ROUTE  SPEED_LIMIT  SEGMENT  OFFSET  \\\n",
       "0            E         2.0   2032         35.0     10.0  1000.0   \n",
       "1            W         3.0    NaN         35.0      NaN     NaN   \n",
       "2            W         2.0   3082         35.0      NaN     NaN   \n",
       "3            N         4.0    NaN         25.0      NaN     NaN   \n",
       "4            S         4.0    NaN         20.0      NaN     NaN   \n",
       "\n",
       "            STREET_NAME  TOT_INJ_COUNT SCHOOL_BUS_UNIT  \n",
       "0          LEWIS RUN RD            NaN             NaN  \n",
       "1        COAL VALLEY RD            NaN             NaN  \n",
       "2  CLINTON FRANKFORT RD            NaN             NaN  \n",
       "3        NORTH BALPH AV            NaN             NaN  \n",
       "4         THORNBERRY DR            NaN             NaN  \n",
       "\n",
       "[5 rows x 190 columns]"
      ]
     },
     "execution_count": 3,
     "metadata": {},
     "output_type": "execute_result"
    }
   ],
   "source": [
    "df.head()"
   ]
  },
  {
   "cell_type": "code",
   "execution_count": 4,
   "id": "f7e26090-1ab8-4923-9834-a79d0cf40200",
   "metadata": {},
   "outputs": [],
   "source": [
    "\n",
    "\n",
    "df = df.rename(columns = {'CRASH_CRN':'crash_id'})\n",
    "df = df.set_index(['crash_id'])"
   ]
  },
  {
   "cell_type": "code",
   "execution_count": 5,
   "id": "df9b2e11-835a-4786-87fa-83a4befca9cd",
   "metadata": {},
   "outputs": [
    {
     "data": {
      "text/plain": [
       "(204898, 189)"
      ]
     },
     "execution_count": 5,
     "metadata": {},
     "output_type": "execute_result"
    }
   ],
   "source": [
    "df.shape"
   ]
  },
  {
   "cell_type": "code",
   "execution_count": 6,
   "id": "1ecc2bd4-f7e3-4111-9a49-0ac9c376ca15",
   "metadata": {},
   "outputs": [
    {
     "data": {
      "text/plain": [
       "crash_id\n",
       "2004000001            LEWIS RUN RD\n",
       "2004000010          COAL VALLEY RD\n",
       "2004000016    CLINTON FRANKFORT RD\n",
       "2004000022          NORTH BALPH AV\n",
       "2004000030           THORNBERRY DR\n",
       "                      ...         \n",
       "2021017633             MCKNIGHT RD\n",
       "2021018779     ALLEGHENY VALLEY EX\n",
       "2021019758               SENECA ST\n",
       "2021021042                 FORD ST\n",
       "2021021504         PENN LINCOLN PY\n",
       "Name: STREET_NAME, Length: 204898, dtype: object"
      ]
     },
     "execution_count": 6,
     "metadata": {},
     "output_type": "execute_result"
    }
   ],
   "source": [
    "df['STREET_NAME']"
   ]
  },
  {
   "cell_type": "code",
   "execution_count": 7,
   "id": "44a6e27c-85bc-4774-928a-c83db8747fc5",
   "metadata": {},
   "outputs": [],
   "source": [
    "import seaborn as sns"
   ]
  },
  {
   "cell_type": "code",
   "execution_count": 8,
   "id": "5563aa46-a9bf-40d1-ab94-3c33ae22589a",
   "metadata": {},
   "outputs": [],
   "source": [
    "#Drop all columns with more than 50% nAn\n",
    "perc = 50.0 # Like N %\n",
    "min_count =  int(((100-perc)/100)*df.shape[0] + 1)\n",
    "df = df.dropna( axis=1, \n",
    "                thresh=min_count)"
   ]
  },
  {
   "cell_type": "code",
   "execution_count": 9,
   "id": "f714c6ac-58bf-4475-9ffe-d145841ef608",
   "metadata": {},
   "outputs": [
    {
     "data": {
      "text/plain": [
       "(204898, 171)"
      ]
     },
     "execution_count": 9,
     "metadata": {},
     "output_type": "execute_result"
    }
   ],
   "source": [
    "df.shape"
   ]
  },
  {
   "cell_type": "code",
   "execution_count": 10,
   "id": "9bd9d262-bcaa-4965-964c-f0551fb33b63",
   "metadata": {},
   "outputs": [
    {
     "name": "stdout",
     "output_type": "stream",
     "text": [
      "DISTRICT\n",
      "CRASH_COUNTY\n",
      "MUNICIPALITY\n",
      "POLICE_AGCY\n",
      "CRASH_YEAR\n",
      "CRASH_MONTH\n",
      "DAY_OF_WEEK\n",
      "TIME_OF_DAY\n",
      "HOUR_OF_DAY\n",
      "ILLUMINATION\n",
      "WEATHER\n",
      "ROAD_CONDITION\n",
      "COLLISION_TYPE\n",
      "RELATION_TO_ROAD\n",
      "INTERSECT_TYPE\n",
      "TCD_TYPE\n",
      "URBAN_RURAL\n",
      "LOCATION_TYPE\n",
      "SCH_BUS_IND\n",
      "SCH_ZONE_IND\n",
      "TOTAL_UNITS\n",
      "PERSON_COUNT\n",
      "VEHICLE_COUNT\n",
      "AUTOMOBILE_COUNT\n",
      "MOTORCYCLE_COUNT\n",
      "BUS_COUNT\n",
      "SMALL_TRUCK_COUNT\n",
      "HEAVY_TRUCK_COUNT\n",
      "SUV_COUNT\n",
      "VAN_COUNT\n",
      "BICYCLE_COUNT\n",
      "FATAL_COUNT\n",
      "INJURY_COUNT\n",
      "MAJ_INJ_COUNT\n",
      "MOD_INJ_COUNT\n",
      "MIN_INJ_COUNT\n",
      "UNK_INJ_DEG_COUNT\n",
      "UNK_INJ_PER_COUNT\n",
      "UNBELTED_OCC_COUNT\n",
      "UNB_DEATH_COUNT\n",
      "UNB_MAJ_INJ_COUNT\n",
      "BELTED_DEATH_COUNT\n",
      "BELTED_MAJ_INJ_COUNT\n",
      "MCYCLE_DEATH_COUNT\n",
      "MCYCLE_MAJ_INJ_COUNT\n",
      "BICYCLE_DEATH_COUNT\n",
      "BICYCLE_MAJ_INJ_COUNT\n",
      "PED_COUNT\n",
      "PED_DEATH_COUNT\n",
      "PED_MAJ_INJ_COUNT\n",
      "COMM_VEH_COUNT\n",
      "MAX_SEVERITY_LEVEL\n",
      "DRIVER_COUNT_16YR\n",
      "DRIVER_COUNT_17YR\n",
      "DRIVER_COUNT_18YR\n",
      "DRIVER_COUNT_19YR\n",
      "DRIVER_COUNT_20YR\n",
      "DRIVER_COUNT_50_64YR\n",
      "DRIVER_COUNT_65_74YR\n",
      "DRIVER_COUNT_75PLUS\n",
      "LATITUDE\n",
      "LONGITUDE\n",
      "DEC_LAT\n",
      "DEC_LONG\n",
      "LANE_CLOSED\n",
      "NTFY_HIWY_MAINT\n",
      "TCD_FUNC_CD\n",
      "WORK_ZONE_IND\n",
      "FLAG_CRN\n",
      "INTERSTATE\n",
      "STATE_ROAD\n",
      "LOCAL_ROAD\n",
      "LOCAL_ROAD_ONLY\n",
      "TURNPIKE\n",
      "WET_ROAD\n",
      "SNOW_SLUSH_ROAD\n",
      "ICY_ROAD\n",
      "SUDDEN_DEER\n",
      "SHLDR_RELATED\n",
      "REAR_END\n",
      "HO_OPPDIR_SDSWP\n",
      "HIT_FIXED_OBJECT\n",
      "SV_RUN_OFF_RD\n",
      "WORK_ZONE\n",
      "PROPERTY_DAMAGE_ONLY\n",
      "FATAL_OR_MAJ_INJ\n",
      "INJURY\n",
      "FATAL\n",
      "NON_INTERSECTION\n",
      "INTERSECTION\n",
      "SIGNALIZED_INT\n",
      "STOP_CONTROLLED_INT\n",
      "UNSIGNALIZED_INT\n",
      "SCHOOL_BUS\n",
      "SCHOOL_ZONE\n",
      "HIT_DEER\n",
      "HIT_TREE_SHRUB\n",
      "HIT_EMBANKMENT\n",
      "HIT_POLE\n",
      "HIT_GDRAIL\n",
      "HIT_GDRAIL_END\n",
      "HIT_BARRIER\n",
      "HIT_BRIDGE\n",
      "OVERTURNED\n",
      "MOTORCYCLE\n",
      "BICYCLE\n",
      "HVY_TRUCK_RELATED\n",
      "VEHICLE_FAILURE\n",
      "TRAIN_TROLLEY\n",
      "PHANTOM_VEHICLE\n",
      "ALCOHOL_RELATED\n",
      "DRINKING_DRIVER\n",
      "UNDERAGE_DRNK_DRV\n",
      "UNLICENSED\n",
      "CELL_PHONE\n",
      "NO_CLEARANCE\n",
      "RUNNING_RED_LT\n",
      "TAILGATING\n",
      "CROSS_MEDIAN\n",
      "CURVE_DVR_ERROR\n",
      "LIMIT_65MPH\n",
      "SPEEDING\n",
      "SPEEDING_RELATED\n",
      "AGGRESSIVE_DRIVING\n",
      "FATIGUE_ASLEEP\n",
      "DRIVER_16YR\n",
      "DRIVER_17YR\n",
      "DRIVER_65_74YR\n",
      "DRIVER_75PLUS\n",
      "UNBELTED\n",
      "PEDESTRIAN\n",
      "DISTRACTED\n",
      "CURVED_ROAD\n",
      "DRIVER_18YR\n",
      "DRIVER_19YR\n",
      "DRIVER_20YR\n",
      "DRIVER_50_64YR\n",
      "VEHICLE_TOWED\n",
      "FIRE_IN_VEHICLE\n",
      "HIT_PARKED_VEHICLE\n",
      "MC_DRINKING_DRIVER\n",
      "DRUGGED_DRIVER\n",
      "INJURY_OR_FATAL\n",
      "COMM_VEHICLE\n",
      "IMPAIRED_DRIVER\n",
      "DEER_RELATED\n",
      "DRUG_RELATED\n",
      "HAZARDOUS_TRUCK\n",
      "ILLEGAL_DRUG_RELATED\n",
      "ILLUMINATION_DARK\n",
      "MINOR_INJURY\n",
      "MODERATE_INJURY\n",
      "MAJOR_INJURY\n",
      "NHTSA_AGG_DRIVING\n",
      "PSP_REPORTED\n",
      "RUNNING_STOP_SIGN\n",
      "TRAIN\n",
      "TROLLEY\n",
      "ROADWAY_CRN\n",
      "RDWY_SEQ_NUM\n",
      "ADJ_RDWY_SEQ\n",
      "ACCESS_CTRL\n",
      "ROADWAY_COUNTY\n",
      "LANE_COUNT\n",
      "RDWY_ORIENT\n",
      "ROAD_OWNER\n",
      "ROUTE\n",
      "SPEED_LIMIT\n",
      "SEGMENT\n",
      "OFFSET\n",
      "STREET_NAME\n"
     ]
    }
   ],
   "source": [
    "for col in df.columns:\n",
    "    print(col)\n",
    "\n",
    "# if we have lat and long we dont need any other location data \n",
    "# all time data\n",
    "# weather and light \n",
    "# type of crash \n",
    "# road_condition\n",
    "# could create different dataframes for different things\n",
    "    # ie what they hit, what was involved, weather, "
   ]
  },
  {
   "cell_type": "code",
   "execution_count": 11,
   "id": "683cff0b-a262-489e-954e-d1986bc99040",
   "metadata": {},
   "outputs": [],
   "source": [
    "# went through the columns and decided on the tpye of data to isolate"
   ]
  },
  {
   "cell_type": "code",
   "execution_count": 12,
   "id": "ca823cce-6084-46fd-887b-2e246bbeb933",
   "metadata": {},
   "outputs": [],
   "source": [
    "times = df[['CRASH_YEAR' , 'CRASH_MONTH', 'DAY_OF_WEEK', 'TIME_OF_DAY', 'HOUR_OF_DAY']]"
   ]
  },
  {
   "cell_type": "code",
   "execution_count": 13,
   "id": "664ad911-e0c1-4526-8ee2-5d0f3bc4e2c4",
   "metadata": {},
   "outputs": [
    {
     "name": "stdout",
     "output_type": "stream",
     "text": [
      "(204898, 5)\n"
     ]
    },
    {
     "data": {
      "text/html": [
       "<div>\n",
       "<style scoped>\n",
       "    .dataframe tbody tr th:only-of-type {\n",
       "        vertical-align: middle;\n",
       "    }\n",
       "\n",
       "    .dataframe tbody tr th {\n",
       "        vertical-align: top;\n",
       "    }\n",
       "\n",
       "    .dataframe thead th {\n",
       "        text-align: right;\n",
       "    }\n",
       "</style>\n",
       "<table border=\"1\" class=\"dataframe\">\n",
       "  <thead>\n",
       "    <tr style=\"text-align: right;\">\n",
       "      <th></th>\n",
       "      <th>CRASH_YEAR</th>\n",
       "      <th>CRASH_MONTH</th>\n",
       "      <th>DAY_OF_WEEK</th>\n",
       "      <th>TIME_OF_DAY</th>\n",
       "      <th>HOUR_OF_DAY</th>\n",
       "    </tr>\n",
       "    <tr>\n",
       "      <th>crash_id</th>\n",
       "      <th></th>\n",
       "      <th></th>\n",
       "      <th></th>\n",
       "      <th></th>\n",
       "      <th></th>\n",
       "    </tr>\n",
       "  </thead>\n",
       "  <tbody>\n",
       "    <tr>\n",
       "      <th>2004000001</th>\n",
       "      <td>2004</td>\n",
       "      <td>1</td>\n",
       "      <td>5</td>\n",
       "      <td>257.0</td>\n",
       "      <td>2.0</td>\n",
       "    </tr>\n",
       "    <tr>\n",
       "      <th>2004000010</th>\n",
       "      <td>2004</td>\n",
       "      <td>1</td>\n",
       "      <td>5</td>\n",
       "      <td>1027.0</td>\n",
       "      <td>10.0</td>\n",
       "    </tr>\n",
       "    <tr>\n",
       "      <th>2004000016</th>\n",
       "      <td>2004</td>\n",
       "      <td>1</td>\n",
       "      <td>5</td>\n",
       "      <td>1839.0</td>\n",
       "      <td>18.0</td>\n",
       "    </tr>\n",
       "    <tr>\n",
       "      <th>2004000022</th>\n",
       "      <td>2004</td>\n",
       "      <td>1</td>\n",
       "      <td>6</td>\n",
       "      <td>914.0</td>\n",
       "      <td>9.0</td>\n",
       "    </tr>\n",
       "    <tr>\n",
       "      <th>2004000030</th>\n",
       "      <td>2004</td>\n",
       "      <td>1</td>\n",
       "      <td>5</td>\n",
       "      <td>2230.0</td>\n",
       "      <td>22.0</td>\n",
       "    </tr>\n",
       "  </tbody>\n",
       "</table>\n",
       "</div>"
      ],
      "text/plain": [
       "            CRASH_YEAR  CRASH_MONTH  DAY_OF_WEEK  TIME_OF_DAY  HOUR_OF_DAY\n",
       "crash_id                                                                  \n",
       "2004000001        2004            1            5        257.0          2.0\n",
       "2004000010        2004            1            5       1027.0         10.0\n",
       "2004000016        2004            1            5       1839.0         18.0\n",
       "2004000022        2004            1            6        914.0          9.0\n",
       "2004000030        2004            1            5       2230.0         22.0"
      ]
     },
     "execution_count": 13,
     "metadata": {},
     "output_type": "execute_result"
    }
   ],
   "source": [
    "print(times.shape)\n",
    "times.head()\n",
    "#time of day needs the colon for time data"
   ]
  },
  {
   "cell_type": "code",
   "execution_count": 14,
   "id": "5737f43f-ef14-4f79-a792-8f48a0ac3819",
   "metadata": {},
   "outputs": [],
   "source": [
    "location = df[['DISTRICT', 'CRASH_COUNTY', 'MUNICIPALITY','LATITUDE','LONGITUDE','LOCATION_TYPE','DEC_LAT','DEC_LONG', 'STREET_NAME']]"
   ]
  },
  {
   "cell_type": "code",
   "execution_count": 15,
   "id": "f0c183ad-759b-4fd7-ab65-ed0622aed946",
   "metadata": {},
   "outputs": [
    {
     "name": "stdout",
     "output_type": "stream",
     "text": [
      "(204898, 9)\n"
     ]
    },
    {
     "data": {
      "text/html": [
       "<div>\n",
       "<style scoped>\n",
       "    .dataframe tbody tr th:only-of-type {\n",
       "        vertical-align: middle;\n",
       "    }\n",
       "\n",
       "    .dataframe tbody tr th {\n",
       "        vertical-align: top;\n",
       "    }\n",
       "\n",
       "    .dataframe thead th {\n",
       "        text-align: right;\n",
       "    }\n",
       "</style>\n",
       "<table border=\"1\" class=\"dataframe\">\n",
       "  <thead>\n",
       "    <tr style=\"text-align: right;\">\n",
       "      <th></th>\n",
       "      <th>DEC_LAT</th>\n",
       "      <th>DEC_LONG</th>\n",
       "      <th>STREET_NAME</th>\n",
       "    </tr>\n",
       "    <tr>\n",
       "      <th>crash_id</th>\n",
       "      <th></th>\n",
       "      <th></th>\n",
       "      <th></th>\n",
       "    </tr>\n",
       "  </thead>\n",
       "  <tbody>\n",
       "    <tr>\n",
       "      <th>2004000001</th>\n",
       "      <td>40.3234</td>\n",
       "      <td>-79.9404</td>\n",
       "      <td>LEWIS RUN RD</td>\n",
       "    </tr>\n",
       "    <tr>\n",
       "      <th>2004000010</th>\n",
       "      <td>40.3182</td>\n",
       "      <td>-79.9076</td>\n",
       "      <td>COAL VALLEY RD</td>\n",
       "    </tr>\n",
       "    <tr>\n",
       "      <th>2004000016</th>\n",
       "      <td>40.4886</td>\n",
       "      <td>-80.3371</td>\n",
       "      <td>CLINTON FRANKFORT RD</td>\n",
       "    </tr>\n",
       "    <tr>\n",
       "      <th>2004000022</th>\n",
       "      <td>NaN</td>\n",
       "      <td>NaN</td>\n",
       "      <td>NORTH BALPH AV</td>\n",
       "    </tr>\n",
       "    <tr>\n",
       "      <th>2004000030</th>\n",
       "      <td>NaN</td>\n",
       "      <td>NaN</td>\n",
       "      <td>THORNBERRY DR</td>\n",
       "    </tr>\n",
       "  </tbody>\n",
       "</table>\n",
       "</div>"
      ],
      "text/plain": [
       "            DEC_LAT  DEC_LONG           STREET_NAME\n",
       "crash_id                                           \n",
       "2004000001  40.3234  -79.9404          LEWIS RUN RD\n",
       "2004000010  40.3182  -79.9076        COAL VALLEY RD\n",
       "2004000016  40.4886  -80.3371  CLINTON FRANKFORT RD\n",
       "2004000022      NaN       NaN        NORTH BALPH AV\n",
       "2004000030      NaN       NaN         THORNBERRY DR"
      ]
     },
     "execution_count": 15,
     "metadata": {},
     "output_type": "execute_result"
    }
   ],
   "source": [
    "#decided to inlcude on three columns in location\n",
    "print(location.shape)\n",
    "location = location[['DEC_LAT','DEC_LONG','STREET_NAME']]\n",
    "location.head()"
   ]
  },
  {
   "cell_type": "code",
   "execution_count": 16,
   "id": "784a5169-50cf-4f8a-8961-3948c33c70f2",
   "metadata": {},
   "outputs": [
    {
     "data": {
      "text/plain": [
       "<AxesSubplot:ylabel='crash_id'>"
      ]
     },
     "execution_count": 16,
     "metadata": {},
     "output_type": "execute_result"
    },
    {
     "data": {
      "image/png": "[encoded data removed]",
      "text/plain": [
       "<Figure size 432x288 with 1 Axes>"
      ]
     },
     "metadata": {
      "needs_background": "light"
     },
     "output_type": "display_data"
    }
   ],
   "source": [
    "sns.heatmap(location.isnull(),yticklabels=False,cbar=False,cmap='viridis')"
   ]
  },
  {
   "cell_type": "code",
   "execution_count": 17,
   "id": "085d05b4-9477-4094-b89c-2519779363d2",
   "metadata": {},
   "outputs": [],
   "source": [
    "crash_count = df[[\n",
    "'AUTOMOBILE_COUNT',\n",
    "'MOTORCYCLE_COUNT',\n",
    "'BUS_COUNT',\n",
    "'SMALL_TRUCK_COUNT',\n",
    "'HEAVY_TRUCK_COUNT',\n",
    "'SUV_COUNT',\n",
    "'VAN_COUNT',\n",
    "'BICYCLE_COUNT',\n",
    "'MOTORCYCLE',\n",
    "'BICYCLE',\n",
    "'PED_COUNT'\n",
    "]]"
   ]
  },
  {
   "cell_type": "code",
   "execution_count": 18,
   "id": "b92df9ae-339d-45e6-9d1c-ae118f678e64",
   "metadata": {},
   "outputs": [
    {
     "data": {
      "text/html": [
       "<div>\n",
       "<style scoped>\n",
       "    .dataframe tbody tr th:only-of-type {\n",
       "        vertical-align: middle;\n",
       "    }\n",
       "\n",
       "    .dataframe tbody tr th {\n",
       "        vertical-align: top;\n",
       "    }\n",
       "\n",
       "    .dataframe thead th {\n",
       "        text-align: right;\n",
       "    }\n",
       "</style>\n",
       "<table border=\"1\" class=\"dataframe\">\n",
       "  <thead>\n",
       "    <tr style=\"text-align: right;\">\n",
       "      <th></th>\n",
       "      <th>AUTOMOBILE_COUNT</th>\n",
       "      <th>MOTORCYCLE_COUNT</th>\n",
       "      <th>BUS_COUNT</th>\n",
       "      <th>SMALL_TRUCK_COUNT</th>\n",
       "      <th>HEAVY_TRUCK_COUNT</th>\n",
       "      <th>SUV_COUNT</th>\n",
       "      <th>VAN_COUNT</th>\n",
       "      <th>BICYCLE_COUNT</th>\n",
       "      <th>MOTORCYCLE</th>\n",
       "      <th>BICYCLE</th>\n",
       "      <th>PED_COUNT</th>\n",
       "    </tr>\n",
       "    <tr>\n",
       "      <th>crash_id</th>\n",
       "      <th></th>\n",
       "      <th></th>\n",
       "      <th></th>\n",
       "      <th></th>\n",
       "      <th></th>\n",
       "      <th></th>\n",
       "      <th></th>\n",
       "      <th></th>\n",
       "      <th></th>\n",
       "      <th></th>\n",
       "      <th></th>\n",
       "    </tr>\n",
       "  </thead>\n",
       "  <tbody>\n",
       "    <tr>\n",
       "      <th>2004000001</th>\n",
       "      <td>0</td>\n",
       "      <td>0</td>\n",
       "      <td>0</td>\n",
       "      <td>1</td>\n",
       "      <td>0</td>\n",
       "      <td>0</td>\n",
       "      <td>0</td>\n",
       "      <td>0</td>\n",
       "      <td>0</td>\n",
       "      <td>0</td>\n",
       "      <td>0</td>\n",
       "    </tr>\n",
       "    <tr>\n",
       "      <th>2004000010</th>\n",
       "      <td>1</td>\n",
       "      <td>0</td>\n",
       "      <td>0</td>\n",
       "      <td>0</td>\n",
       "      <td>0</td>\n",
       "      <td>0</td>\n",
       "      <td>0</td>\n",
       "      <td>0</td>\n",
       "      <td>0</td>\n",
       "      <td>0</td>\n",
       "      <td>0</td>\n",
       "    </tr>\n",
       "    <tr>\n",
       "      <th>2004000016</th>\n",
       "      <td>1</td>\n",
       "      <td>0</td>\n",
       "      <td>0</td>\n",
       "      <td>0</td>\n",
       "      <td>0</td>\n",
       "      <td>0</td>\n",
       "      <td>0</td>\n",
       "      <td>0</td>\n",
       "      <td>0</td>\n",
       "      <td>0</td>\n",
       "      <td>0</td>\n",
       "    </tr>\n",
       "    <tr>\n",
       "      <th>2004000022</th>\n",
       "      <td>1</td>\n",
       "      <td>0</td>\n",
       "      <td>0</td>\n",
       "      <td>0</td>\n",
       "      <td>1</td>\n",
       "      <td>0</td>\n",
       "      <td>0</td>\n",
       "      <td>0</td>\n",
       "      <td>0</td>\n",
       "      <td>0</td>\n",
       "      <td>0</td>\n",
       "    </tr>\n",
       "    <tr>\n",
       "      <th>2004000030</th>\n",
       "      <td>1</td>\n",
       "      <td>0</td>\n",
       "      <td>0</td>\n",
       "      <td>0</td>\n",
       "      <td>0</td>\n",
       "      <td>0</td>\n",
       "      <td>0</td>\n",
       "      <td>0</td>\n",
       "      <td>0</td>\n",
       "      <td>0</td>\n",
       "      <td>0</td>\n",
       "    </tr>\n",
       "  </tbody>\n",
       "</table>\n",
       "</div>"
      ],
      "text/plain": [
       "            AUTOMOBILE_COUNT  MOTORCYCLE_COUNT  BUS_COUNT  SMALL_TRUCK_COUNT  \\\n",
       "crash_id                                                                       \n",
       "2004000001                 0                 0          0                  1   \n",
       "2004000010                 1                 0          0                  0   \n",
       "2004000016                 1                 0          0                  0   \n",
       "2004000022                 1                 0          0                  0   \n",
       "2004000030                 1                 0          0                  0   \n",
       "\n",
       "            HEAVY_TRUCK_COUNT  SUV_COUNT  VAN_COUNT  BICYCLE_COUNT  \\\n",
       "crash_id                                                             \n",
       "2004000001                  0          0          0              0   \n",
       "2004000010                  0          0          0              0   \n",
       "2004000016                  0          0          0              0   \n",
       "2004000022                  1          0          0              0   \n",
       "2004000030                  0          0          0              0   \n",
       "\n",
       "            MOTORCYCLE  BICYCLE  PED_COUNT  \n",
       "crash_id                                    \n",
       "2004000001           0        0          0  \n",
       "2004000010           0        0          0  \n",
       "2004000016           0        0          0  \n",
       "2004000022           0        0          0  \n",
       "2004000030           0        0          0  "
      ]
     },
     "execution_count": 18,
     "metadata": {},
     "output_type": "execute_result"
    }
   ],
   "source": [
    "crash_count.head()"
   ]
  },
  {
   "cell_type": "code",
   "execution_count": 19,
   "id": "2268061d-809a-4715-9df5-cd5220ab90a1",
   "metadata": {},
   "outputs": [
    {
     "name": "stderr",
     "output_type": "stream",
     "text": [
      "<ipython-input-19-030e32ecc9af>:3: SettingWithCopyWarning: \n",
      "A value is trying to be set on a copy of a slice from a DataFrame.\n",
      "Try using .loc[row_indexer,col_indexer] = value instead\n",
      "\n",
      "See the caveats in the documentation: https://pandas.pydata.org/pandas-docs/stable/user_guide/indexing.html#returning-a-view-versus-a-copy\n",
      "  crash_count['vehicle_type'] = 1\n",
      "<ipython-input-19-030e32ecc9af>:4: SettingWithCopyWarning: \n",
      "A value is trying to be set on a copy of a slice from a DataFrame.\n",
      "Try using .loc[row_indexer,col_indexer] = value instead\n",
      "\n",
      "See the caveats in the documentation: https://pandas.pydata.org/pandas-docs/stable/user_guide/indexing.html#returning-a-view-versus-a-copy\n",
      "  crash_count.loc[crash_count.PED_COUNT != 0, 'vehicle_type'] = \"3\"\n"
     ]
    },
    {
     "name": "stdout",
     "output_type": "stream",
     "text": [
      "(204898, 1)\n"
     ]
    },
    {
     "data": {
      "image/png": "[encoded data removed]",
      "text/plain": [
       "<Figure size 432x288 with 1 Axes>"
      ]
     },
     "metadata": {
      "needs_background": "light"
     },
     "output_type": "display_data"
    }
   ],
   "source": [
    "# create a new column that only has data on the type of vehicle involved, car, bike, pedestrian. \n",
    "import matplotlib as plt\n",
    "crash_count['vehicle_type'] = 1\n",
    "crash_count.loc[crash_count.PED_COUNT != 0, 'vehicle_type'] = \"3\"\n",
    "crash_count.loc[crash_count.BICYCLE_COUNT != 0, 'vehicle_type'] = \"2\"\n",
    "crash_count['vehicle_type'].value_counts().plot(kind='barh')\n",
    "crash_count = crash_count[[\"vehicle_type\"]]\n",
    "print(crash_count.shape)"
   ]
  },
  {
   "cell_type": "code",
   "execution_count": 20,
   "id": "6e948027-6e66-4875-b92d-15ce8a7ce3b0",
   "metadata": {},
   "outputs": [
    {
     "data": {
      "text/html": [
       "<div>\n",
       "<style scoped>\n",
       "    .dataframe tbody tr th:only-of-type {\n",
       "        vertical-align: middle;\n",
       "    }\n",
       "\n",
       "    .dataframe tbody tr th {\n",
       "        vertical-align: top;\n",
       "    }\n",
       "\n",
       "    .dataframe thead th {\n",
       "        text-align: right;\n",
       "    }\n",
       "</style>\n",
       "<table border=\"1\" class=\"dataframe\">\n",
       "  <thead>\n",
       "    <tr style=\"text-align: right;\">\n",
       "      <th></th>\n",
       "      <th>vehicle_type</th>\n",
       "    </tr>\n",
       "    <tr>\n",
       "      <th>crash_id</th>\n",
       "      <th></th>\n",
       "    </tr>\n",
       "  </thead>\n",
       "  <tbody>\n",
       "    <tr>\n",
       "      <th>2004000001</th>\n",
       "      <td>1</td>\n",
       "    </tr>\n",
       "    <tr>\n",
       "      <th>2004000010</th>\n",
       "      <td>1</td>\n",
       "    </tr>\n",
       "    <tr>\n",
       "      <th>2004000016</th>\n",
       "      <td>1</td>\n",
       "    </tr>\n",
       "    <tr>\n",
       "      <th>2004000022</th>\n",
       "      <td>1</td>\n",
       "    </tr>\n",
       "    <tr>\n",
       "      <th>2004000030</th>\n",
       "      <td>1</td>\n",
       "    </tr>\n",
       "    <tr>\n",
       "      <th>...</th>\n",
       "      <td>...</td>\n",
       "    </tr>\n",
       "    <tr>\n",
       "      <th>2021017633</th>\n",
       "      <td>1</td>\n",
       "    </tr>\n",
       "    <tr>\n",
       "      <th>2021018779</th>\n",
       "      <td>1</td>\n",
       "    </tr>\n",
       "    <tr>\n",
       "      <th>2021019758</th>\n",
       "      <td>1</td>\n",
       "    </tr>\n",
       "    <tr>\n",
       "      <th>2021021042</th>\n",
       "      <td>1</td>\n",
       "    </tr>\n",
       "    <tr>\n",
       "      <th>2021021504</th>\n",
       "      <td>1</td>\n",
       "    </tr>\n",
       "  </tbody>\n",
       "</table>\n",
       "<p>196519 rows × 1 columns</p>\n",
       "</div>"
      ],
      "text/plain": [
       "           vehicle_type\n",
       "crash_id               \n",
       "2004000001            1\n",
       "2004000010            1\n",
       "2004000016            1\n",
       "2004000022            1\n",
       "2004000030            1\n",
       "...                 ...\n",
       "2021017633            1\n",
       "2021018779            1\n",
       "2021019758            1\n",
       "2021021042            1\n",
       "2021021504            1\n",
       "\n",
       "[196519 rows x 1 columns]"
      ]
     },
     "execution_count": 20,
     "metadata": {},
     "output_type": "execute_result"
    }
   ],
   "source": [
    "# due to the small number of crashes that involove ped or bike we decided to strictly focus on car crashes\n",
    "crash_count = crash_count[crash_count.vehicle_type == 1]\n",
    "crash_count"
   ]
  },
  {
   "cell_type": "code",
   "execution_count": 21,
   "id": "ee1f8ddb-a3d8-46d2-979f-f765eeedc409",
   "metadata": {},
   "outputs": [],
   "source": [
    "weather = df[['ILLUMINATION','WEATHER','ROAD_CONDITION']]"
   ]
  },
  {
   "cell_type": "code",
   "execution_count": 22,
   "id": "edca066b-3a8f-4314-96a6-f1f802584bb8",
   "metadata": {},
   "outputs": [
    {
     "data": {
      "text/html": [
       "<div>\n",
       "<style scoped>\n",
       "    .dataframe tbody tr th:only-of-type {\n",
       "        vertical-align: middle;\n",
       "    }\n",
       "\n",
       "    .dataframe tbody tr th {\n",
       "        vertical-align: top;\n",
       "    }\n",
       "\n",
       "    .dataframe thead th {\n",
       "        text-align: right;\n",
       "    }\n",
       "</style>\n",
       "<table border=\"1\" class=\"dataframe\">\n",
       "  <thead>\n",
       "    <tr style=\"text-align: right;\">\n",
       "      <th></th>\n",
       "      <th>ILLUMINATION</th>\n",
       "      <th>WEATHER</th>\n",
       "      <th>ROAD_CONDITION</th>\n",
       "    </tr>\n",
       "    <tr>\n",
       "      <th>crash_id</th>\n",
       "      <th></th>\n",
       "      <th></th>\n",
       "      <th></th>\n",
       "    </tr>\n",
       "  </thead>\n",
       "  <tbody>\n",
       "    <tr>\n",
       "      <th>2004000001</th>\n",
       "      <td>2</td>\n",
       "      <td>1.0</td>\n",
       "      <td>0.0</td>\n",
       "    </tr>\n",
       "    <tr>\n",
       "      <th>2004000010</th>\n",
       "      <td>1</td>\n",
       "      <td>1.0</td>\n",
       "      <td>6.0</td>\n",
       "    </tr>\n",
       "    <tr>\n",
       "      <th>2004000016</th>\n",
       "      <td>2</td>\n",
       "      <td>1.0</td>\n",
       "      <td>0.0</td>\n",
       "    </tr>\n",
       "    <tr>\n",
       "      <th>2004000022</th>\n",
       "      <td>1</td>\n",
       "      <td>1.0</td>\n",
       "      <td>1.0</td>\n",
       "    </tr>\n",
       "    <tr>\n",
       "      <th>2004000030</th>\n",
       "      <td>3</td>\n",
       "      <td>1.0</td>\n",
       "      <td>0.0</td>\n",
       "    </tr>\n",
       "  </tbody>\n",
       "</table>\n",
       "</div>"
      ],
      "text/plain": [
       "            ILLUMINATION  WEATHER  ROAD_CONDITION\n",
       "crash_id                                         \n",
       "2004000001             2      1.0             0.0\n",
       "2004000010             1      1.0             6.0\n",
       "2004000016             2      1.0             0.0\n",
       "2004000022             1      1.0             1.0\n",
       "2004000030             3      1.0             0.0"
      ]
     },
     "execution_count": 22,
     "metadata": {},
     "output_type": "execute_result"
    }
   ],
   "source": [
    "weather.head()"
   ]
  },
  {
   "cell_type": "markdown",
   "id": "a8e57df2-b459-4f5e-a3f4-5e41a134669a",
   "metadata": {},
   "source": [
    "### Weather Documentation\n",
    "Code for the first weather condition at time of crash 01 - Blowing Sand, Soil, Dirt 02 - Blowing Snow 03 - Clear 04 - Cloudy 05 - Fog, Smog, Smoke 06 - Freezing Rain or Freezing Drizzle 07 - Rain 08 - Severe Crosswinds 09 - Sleet or Hail 10 - Snow 98 - Other 99 - Unknown"
   ]
  },
  {
   "cell_type": "code",
   "execution_count": 23,
   "id": "f120665d-2fe5-4d05-b366-28c3b8f9200a",
   "metadata": {},
   "outputs": [
    {
     "data": {
      "text/plain": [
       "array([ 1.,  2.,  4.,  8.,  3.,  6.,  9.,  5.,  7., nan, 98., 10., 99.])"
      ]
     },
     "execution_count": 23,
     "metadata": {},
     "output_type": "execute_result"
    }
   ],
   "source": [
    "weather.WEATHER.unique()"
   ]
  },
  {
   "cell_type": "code",
   "execution_count": 24,
   "id": "2f63068d-6917-43e6-93bf-a72de446988b",
   "metadata": {},
   "outputs": [],
   "source": [
    "# all values accounted for "
   ]
  },
  {
   "cell_type": "markdown",
   "id": "f1a3ba83-37fd-408e-b1f0-4384296be587",
   "metadata": {},
   "source": [
    "### Illumination Documentation\n",
    "Code that defines lighting at crash scene 1 – Daylight 2 – Dark – no street lights 3 – Dark – street lights 4 – Dusk 5 – Dawn 6 – Dark – unknown roadway lighting 8 – Other\n"
   ]
  },
  {
   "cell_type": "code",
   "execution_count": 25,
   "id": "01c4d843-35b0-47fc-bdba-9cc922d7a6dd",
   "metadata": {},
   "outputs": [],
   "source": [
    "weather.ILLUMINATION.unique()\n",
    "weather = weather[weather['ILLUMINATION'] != 9]\n",
    "#want to only include day and night"
   ]
  },
  {
   "cell_type": "markdown",
   "id": "1c2b31ea-9097-48a6-939b-c29c09b0c099",
   "metadata": {},
   "source": [
    "### Road Condition Documentation\n",
    "Roadway Surface Condition Code 0 - Dry 1 - Wet 2 - Sand/ mud/ dirt/ oil/ or gravel 3 - Snow covered 4 - Slush 5 - Ice 6 - Ice Patches 7 - Water - standing or moving 8 - Other 9 - Unknown (expired)\n"
   ]
  },
  {
   "cell_type": "code",
   "execution_count": 26,
   "id": "602ab70a-1871-4a7b-a279-d75aa3e0f51e",
   "metadata": {},
   "outputs": [],
   "source": [
    "weather.ROAD_CONDITION.unique()\n",
    "weather = weather[weather['ROAD_CONDITION'] != 22]\n",
    "weather = weather[weather['ROAD_CONDITION'] != 99]\n",
    "weather = weather[weather['ROAD_CONDITION'] != 98]"
   ]
  },
  {
   "cell_type": "code",
   "execution_count": 27,
   "id": "aee1b343-31f5-4880-b1c7-4fff349a69b6",
   "metadata": {},
   "outputs": [],
   "source": [
    "severity = df[[\n",
    "'FATAL','MINOR_INJURY',\n",
    "'MODERATE_INJURY',\n",
    "'MAJOR_INJURY','INJURY']]"
   ]
  },
  {
   "cell_type": "code",
   "execution_count": 28,
   "id": "5818e666-e4f9-41bf-9b11-b243a9e56151",
   "metadata": {},
   "outputs": [
    {
     "name": "stderr",
     "output_type": "stream",
     "text": [
      "<ipython-input-28-1dee437f0826>:2: SettingWithCopyWarning: \n",
      "A value is trying to be set on a copy of a slice from a DataFrame.\n",
      "Try using .loc[row_indexer,col_indexer] = value instead\n",
      "\n",
      "See the caveats in the documentation: https://pandas.pydata.org/pandas-docs/stable/user_guide/indexing.html#returning-a-view-versus-a-copy\n",
      "  severity['severity'] = 0\n",
      "<ipython-input-28-1dee437f0826>:3: SettingWithCopyWarning: \n",
      "A value is trying to be set on a copy of a slice from a DataFrame.\n",
      "Try using .loc[row_indexer,col_indexer] = value instead\n",
      "\n",
      "See the caveats in the documentation: https://pandas.pydata.org/pandas-docs/stable/user_guide/indexing.html#returning-a-view-versus-a-copy\n",
      "  severity.loc[severity.FATAL != 0, 'severity'] = \"2\"\n"
     ]
    }
   ],
   "source": [
    "# sorting by how severe an accident was\n",
    "severity['severity'] = 0\n",
    "severity.loc[severity.FATAL != 0, 'severity'] = \"2\"\n",
    "severity.loc[severity.MINOR_INJURY != 0, 'severity'] = \"1\"\n",
    "severity.loc[severity.MODERATE_INJURY != 0, 'severity'] = \"1\"\n",
    "severity.loc[severity.MAJOR_INJURY != 0, 'severity'] = \"1\""
   ]
  },
  {
   "cell_type": "code",
   "execution_count": 29,
   "id": "916b9d3f-dfd1-4386-9462-db6fb783f910",
   "metadata": {},
   "outputs": [
    {
     "name": "stdout",
     "output_type": "stream",
     "text": [
      "(204898, 6)\n"
     ]
    },
    {
     "data": {
      "text/html": [
       "<div>\n",
       "<style scoped>\n",
       "    .dataframe tbody tr th:only-of-type {\n",
       "        vertical-align: middle;\n",
       "    }\n",
       "\n",
       "    .dataframe tbody tr th {\n",
       "        vertical-align: top;\n",
       "    }\n",
       "\n",
       "    .dataframe thead th {\n",
       "        text-align: right;\n",
       "    }\n",
       "</style>\n",
       "<table border=\"1\" class=\"dataframe\">\n",
       "  <thead>\n",
       "    <tr style=\"text-align: right;\">\n",
       "      <th></th>\n",
       "      <th>FATAL</th>\n",
       "      <th>MINOR_INJURY</th>\n",
       "      <th>MODERATE_INJURY</th>\n",
       "      <th>MAJOR_INJURY</th>\n",
       "      <th>INJURY</th>\n",
       "      <th>severity</th>\n",
       "    </tr>\n",
       "    <tr>\n",
       "      <th>crash_id</th>\n",
       "      <th></th>\n",
       "      <th></th>\n",
       "      <th></th>\n",
       "      <th></th>\n",
       "      <th></th>\n",
       "      <th></th>\n",
       "    </tr>\n",
       "  </thead>\n",
       "  <tbody>\n",
       "    <tr>\n",
       "      <th>2004000001</th>\n",
       "      <td>0</td>\n",
       "      <td>0</td>\n",
       "      <td>0.0</td>\n",
       "      <td>0</td>\n",
       "      <td>0</td>\n",
       "      <td>0</td>\n",
       "    </tr>\n",
       "    <tr>\n",
       "      <th>2004000010</th>\n",
       "      <td>0</td>\n",
       "      <td>0</td>\n",
       "      <td>1.0</td>\n",
       "      <td>0</td>\n",
       "      <td>1</td>\n",
       "      <td>1</td>\n",
       "    </tr>\n",
       "    <tr>\n",
       "      <th>2004000016</th>\n",
       "      <td>0</td>\n",
       "      <td>1</td>\n",
       "      <td>0.0</td>\n",
       "      <td>0</td>\n",
       "      <td>1</td>\n",
       "      <td>1</td>\n",
       "    </tr>\n",
       "    <tr>\n",
       "      <th>2004000022</th>\n",
       "      <td>0</td>\n",
       "      <td>0</td>\n",
       "      <td>1.0</td>\n",
       "      <td>0</td>\n",
       "      <td>1</td>\n",
       "      <td>1</td>\n",
       "    </tr>\n",
       "    <tr>\n",
       "      <th>2004000030</th>\n",
       "      <td>0</td>\n",
       "      <td>0</td>\n",
       "      <td>0.0</td>\n",
       "      <td>0</td>\n",
       "      <td>0</td>\n",
       "      <td>0</td>\n",
       "    </tr>\n",
       "  </tbody>\n",
       "</table>\n",
       "</div>"
      ],
      "text/plain": [
       "            FATAL  MINOR_INJURY  MODERATE_INJURY  MAJOR_INJURY  INJURY  \\\n",
       "crash_id                                                                 \n",
       "2004000001      0             0              0.0             0       0   \n",
       "2004000010      0             0              1.0             0       1   \n",
       "2004000016      0             1              0.0             0       1   \n",
       "2004000022      0             0              1.0             0       1   \n",
       "2004000030      0             0              0.0             0       0   \n",
       "\n",
       "           severity  \n",
       "crash_id             \n",
       "2004000001        0  \n",
       "2004000010        1  \n",
       "2004000016        1  \n",
       "2004000022        1  \n",
       "2004000030        0  "
      ]
     },
     "execution_count": 29,
     "metadata": {},
     "output_type": "execute_result"
    }
   ],
   "source": [
    "\n",
    "print(severity.shape)\n",
    "severity.head()"
   ]
  },
  {
   "cell_type": "code",
   "execution_count": 30,
   "id": "14ebcf49-d5e2-4e74-8dcf-f4ca20bfd21d",
   "metadata": {},
   "outputs": [
    {
     "data": {
      "text/plain": [
       "<AxesSubplot:>"
      ]
     },
     "execution_count": 30,
     "metadata": {},
     "output_type": "execute_result"
    },
    {
     "data": {
      "image/png": "[encoded data removed]",
      "text/plain": [
       "<Figure size 432x288 with 1 Axes>"
      ]
     },
     "metadata": {
      "needs_background": "light"
     },
     "output_type": "display_data"
    }
   ],
   "source": [
    "severity['severity'].value_counts().plot(kind='barh')"
   ]
  },
  {
   "cell_type": "code",
   "execution_count": 31,
   "id": "3c1e14d0-e2d6-4c97-a765-478235d0f0e7",
   "metadata": {},
   "outputs": [
    {
     "name": "stdout",
     "output_type": "stream",
     "text": [
      "(204775, 3)\n"
     ]
    },
    {
     "data": {
      "text/html": [
       "<div>\n",
       "<style scoped>\n",
       "    .dataframe tbody tr th:only-of-type {\n",
       "        vertical-align: middle;\n",
       "    }\n",
       "\n",
       "    .dataframe tbody tr th {\n",
       "        vertical-align: top;\n",
       "    }\n",
       "\n",
       "    .dataframe thead th {\n",
       "        text-align: right;\n",
       "    }\n",
       "</style>\n",
       "<table border=\"1\" class=\"dataframe\">\n",
       "  <thead>\n",
       "    <tr style=\"text-align: right;\">\n",
       "      <th></th>\n",
       "      <th>ILLUMINATION</th>\n",
       "      <th>WEATHER</th>\n",
       "      <th>ROAD_CONDITION</th>\n",
       "    </tr>\n",
       "    <tr>\n",
       "      <th>crash_id</th>\n",
       "      <th></th>\n",
       "      <th></th>\n",
       "      <th></th>\n",
       "    </tr>\n",
       "  </thead>\n",
       "  <tbody>\n",
       "    <tr>\n",
       "      <th>2004000001</th>\n",
       "      <td>2</td>\n",
       "      <td>1.0</td>\n",
       "      <td>0.0</td>\n",
       "    </tr>\n",
       "    <tr>\n",
       "      <th>2004000010</th>\n",
       "      <td>1</td>\n",
       "      <td>1.0</td>\n",
       "      <td>6.0</td>\n",
       "    </tr>\n",
       "    <tr>\n",
       "      <th>2004000016</th>\n",
       "      <td>2</td>\n",
       "      <td>1.0</td>\n",
       "      <td>0.0</td>\n",
       "    </tr>\n",
       "    <tr>\n",
       "      <th>2004000022</th>\n",
       "      <td>1</td>\n",
       "      <td>1.0</td>\n",
       "      <td>1.0</td>\n",
       "    </tr>\n",
       "    <tr>\n",
       "      <th>2004000030</th>\n",
       "      <td>3</td>\n",
       "      <td>1.0</td>\n",
       "      <td>0.0</td>\n",
       "    </tr>\n",
       "  </tbody>\n",
       "</table>\n",
       "</div>"
      ],
      "text/plain": [
       "            ILLUMINATION  WEATHER  ROAD_CONDITION\n",
       "crash_id                                         \n",
       "2004000001             2      1.0             0.0\n",
       "2004000010             1      1.0             6.0\n",
       "2004000016             2      1.0             0.0\n",
       "2004000022             1      1.0             1.0\n",
       "2004000030             3      1.0             0.0"
      ]
     },
     "execution_count": 31,
     "metadata": {},
     "output_type": "execute_result"
    }
   ],
   "source": [
    "print(weather.shape)\n",
    "weather.head()\n"
   ]
  },
  {
   "cell_type": "code",
   "execution_count": 32,
   "id": "30119d51-b0f0-4896-9135-64c97715b036",
   "metadata": {},
   "outputs": [
    {
     "name": "stdout",
     "output_type": "stream",
     "text": [
      "(204898, 1)\n"
     ]
    },
    {
     "data": {
      "text/html": [
       "<div>\n",
       "<style scoped>\n",
       "    .dataframe tbody tr th:only-of-type {\n",
       "        vertical-align: middle;\n",
       "    }\n",
       "\n",
       "    .dataframe tbody tr th {\n",
       "        vertical-align: top;\n",
       "    }\n",
       "\n",
       "    .dataframe thead th {\n",
       "        text-align: right;\n",
       "    }\n",
       "</style>\n",
       "<table border=\"1\" class=\"dataframe\">\n",
       "  <thead>\n",
       "    <tr style=\"text-align: right;\">\n",
       "      <th></th>\n",
       "      <th>severity</th>\n",
       "    </tr>\n",
       "    <tr>\n",
       "      <th>crash_id</th>\n",
       "      <th></th>\n",
       "    </tr>\n",
       "  </thead>\n",
       "  <tbody>\n",
       "    <tr>\n",
       "      <th>2004000001</th>\n",
       "      <td>0</td>\n",
       "    </tr>\n",
       "    <tr>\n",
       "      <th>2004000010</th>\n",
       "      <td>1</td>\n",
       "    </tr>\n",
       "    <tr>\n",
       "      <th>2004000016</th>\n",
       "      <td>1</td>\n",
       "    </tr>\n",
       "    <tr>\n",
       "      <th>2004000022</th>\n",
       "      <td>1</td>\n",
       "    </tr>\n",
       "    <tr>\n",
       "      <th>2004000030</th>\n",
       "      <td>0</td>\n",
       "    </tr>\n",
       "  </tbody>\n",
       "</table>\n",
       "</div>"
      ],
      "text/plain": [
       "           severity\n",
       "crash_id           \n",
       "2004000001        0\n",
       "2004000010        1\n",
       "2004000016        1\n",
       "2004000022        1\n",
       "2004000030        0"
      ]
     },
     "execution_count": 32,
     "metadata": {},
     "output_type": "execute_result"
    }
   ],
   "source": [
    "\n",
    "severity = severity[[\"severity\"]]\n",
    "print(severity.shape)\n",
    "severity.head()"
   ]
  },
  {
   "cell_type": "code",
   "execution_count": 33,
   "id": "c4c4181d-f349-4e3e-a04f-8af93957335f",
   "metadata": {},
   "outputs": [
    {
     "data": {
      "text/html": [
       "<div>\n",
       "<style scoped>\n",
       "    .dataframe tbody tr th:only-of-type {\n",
       "        vertical-align: middle;\n",
       "    }\n",
       "\n",
       "    .dataframe tbody tr th {\n",
       "        vertical-align: top;\n",
       "    }\n",
       "\n",
       "    .dataframe thead th {\n",
       "        text-align: right;\n",
       "    }\n",
       "</style>\n",
       "<table border=\"1\" class=\"dataframe\">\n",
       "  <thead>\n",
       "    <tr style=\"text-align: right;\">\n",
       "      <th></th>\n",
       "      <th>DEC_LAT</th>\n",
       "      <th>DEC_LONG</th>\n",
       "      <th>STREET_NAME</th>\n",
       "    </tr>\n",
       "    <tr>\n",
       "      <th>crash_id</th>\n",
       "      <th></th>\n",
       "      <th></th>\n",
       "      <th></th>\n",
       "    </tr>\n",
       "  </thead>\n",
       "  <tbody>\n",
       "    <tr>\n",
       "      <th>2004000001</th>\n",
       "      <td>40.3234</td>\n",
       "      <td>-79.9404</td>\n",
       "      <td>LEWIS RUN RD</td>\n",
       "    </tr>\n",
       "    <tr>\n",
       "      <th>2004000010</th>\n",
       "      <td>40.3182</td>\n",
       "      <td>-79.9076</td>\n",
       "      <td>COAL VALLEY RD</td>\n",
       "    </tr>\n",
       "    <tr>\n",
       "      <th>2004000016</th>\n",
       "      <td>40.4886</td>\n",
       "      <td>-80.3371</td>\n",
       "      <td>CLINTON FRANKFORT RD</td>\n",
       "    </tr>\n",
       "    <tr>\n",
       "      <th>2004000022</th>\n",
       "      <td>NaN</td>\n",
       "      <td>NaN</td>\n",
       "      <td>NORTH BALPH AV</td>\n",
       "    </tr>\n",
       "    <tr>\n",
       "      <th>2004000030</th>\n",
       "      <td>NaN</td>\n",
       "      <td>NaN</td>\n",
       "      <td>THORNBERRY DR</td>\n",
       "    </tr>\n",
       "  </tbody>\n",
       "</table>\n",
       "</div>"
      ],
      "text/plain": [
       "            DEC_LAT  DEC_LONG           STREET_NAME\n",
       "crash_id                                           \n",
       "2004000001  40.3234  -79.9404          LEWIS RUN RD\n",
       "2004000010  40.3182  -79.9076        COAL VALLEY RD\n",
       "2004000016  40.4886  -80.3371  CLINTON FRANKFORT RD\n",
       "2004000022      NaN       NaN        NORTH BALPH AV\n",
       "2004000030      NaN       NaN         THORNBERRY DR"
      ]
     },
     "execution_count": 33,
     "metadata": {},
     "output_type": "execute_result"
    }
   ],
   "source": [
    "location.shape\n",
    "location.head()"
   ]
  },
  {
   "cell_type": "code",
   "execution_count": 34,
   "id": "c5109dec-dfef-4810-ba14-0ce65a560a55",
   "metadata": {},
   "outputs": [
    {
     "data": {
      "text/plain": [
       "CRASH_YEAR       int64\n",
       "CRASH_MONTH      int64\n",
       "DAY_OF_WEEK      int64\n",
       "TIME_OF_DAY    float64\n",
       "HOUR_OF_DAY    float64\n",
       "dtype: object"
      ]
     },
     "execution_count": 34,
     "metadata": {},
     "output_type": "execute_result"
    }
   ],
   "source": [
    "times.dtypes"
   ]
  },
  {
   "cell_type": "code",
   "execution_count": 35,
   "id": "3b114790-0964-4134-beac-33e2ab7a0ef3",
   "metadata": {},
   "outputs": [
    {
     "name": "stderr",
     "output_type": "stream",
     "text": [
      "<ipython-input-35-6986ad90e817>:1: SettingWithCopyWarning: \n",
      "A value is trying to be set on a copy of a slice from a DataFrame.\n",
      "Try using .loc[row_indexer,col_indexer] = value instead\n",
      "\n",
      "See the caveats in the documentation: https://pandas.pydata.org/pandas-docs/stable/user_guide/indexing.html#returning-a-view-versus-a-copy\n",
      "  times['date'] = times[\"CRASH_YEAR\"].astype(str) +\"-\"+ times[\"CRASH_MONTH\"].astype(str)\n"
     ]
    }
   ],
   "source": [
    "times['date'] = times[\"CRASH_YEAR\"].astype(str) +\"-\"+ times[\"CRASH_MONTH\"].astype(str)"
   ]
  },
  {
   "cell_type": "code",
   "execution_count": 36,
   "id": "4b3b687d-e76a-44a6-bd8e-9a22dd93d76f",
   "metadata": {},
   "outputs": [],
   "source": [
    "times = times[['CRASH_YEAR','DAY_OF_WEEK','HOUR_OF_DAY','date']]"
   ]
  },
  {
   "cell_type": "code",
   "execution_count": 37,
   "id": "346aa4a0-12fe-43e9-8f93-101cb1daf911",
   "metadata": {},
   "outputs": [
    {
     "name": "stdout",
     "output_type": "stream",
     "text": [
      "(204898, 4)\n"
     ]
    },
    {
     "data": {
      "text/html": [
       "<div>\n",
       "<style scoped>\n",
       "    .dataframe tbody tr th:only-of-type {\n",
       "        vertical-align: middle;\n",
       "    }\n",
       "\n",
       "    .dataframe tbody tr th {\n",
       "        vertical-align: top;\n",
       "    }\n",
       "\n",
       "    .dataframe thead th {\n",
       "        text-align: right;\n",
       "    }\n",
       "</style>\n",
       "<table border=\"1\" class=\"dataframe\">\n",
       "  <thead>\n",
       "    <tr style=\"text-align: right;\">\n",
       "      <th></th>\n",
       "      <th>CRASH_YEAR</th>\n",
       "      <th>DAY_OF_WEEK</th>\n",
       "      <th>HOUR_OF_DAY</th>\n",
       "      <th>date</th>\n",
       "    </tr>\n",
       "    <tr>\n",
       "      <th>crash_id</th>\n",
       "      <th></th>\n",
       "      <th></th>\n",
       "      <th></th>\n",
       "      <th></th>\n",
       "    </tr>\n",
       "  </thead>\n",
       "  <tbody>\n",
       "    <tr>\n",
       "      <th>2004000001</th>\n",
       "      <td>2004</td>\n",
       "      <td>5</td>\n",
       "      <td>2.0</td>\n",
       "      <td>2004-1</td>\n",
       "    </tr>\n",
       "    <tr>\n",
       "      <th>2004000010</th>\n",
       "      <td>2004</td>\n",
       "      <td>5</td>\n",
       "      <td>10.0</td>\n",
       "      <td>2004-1</td>\n",
       "    </tr>\n",
       "    <tr>\n",
       "      <th>2004000016</th>\n",
       "      <td>2004</td>\n",
       "      <td>5</td>\n",
       "      <td>18.0</td>\n",
       "      <td>2004-1</td>\n",
       "    </tr>\n",
       "    <tr>\n",
       "      <th>2004000022</th>\n",
       "      <td>2004</td>\n",
       "      <td>6</td>\n",
       "      <td>9.0</td>\n",
       "      <td>2004-1</td>\n",
       "    </tr>\n",
       "    <tr>\n",
       "      <th>2004000030</th>\n",
       "      <td>2004</td>\n",
       "      <td>5</td>\n",
       "      <td>22.0</td>\n",
       "      <td>2004-1</td>\n",
       "    </tr>\n",
       "  </tbody>\n",
       "</table>\n",
       "</div>"
      ],
      "text/plain": [
       "            CRASH_YEAR  DAY_OF_WEEK  HOUR_OF_DAY    date\n",
       "crash_id                                                \n",
       "2004000001        2004            5          2.0  2004-1\n",
       "2004000010        2004            5         10.0  2004-1\n",
       "2004000016        2004            5         18.0  2004-1\n",
       "2004000022        2004            6          9.0  2004-1\n",
       "2004000030        2004            5         22.0  2004-1"
      ]
     },
     "execution_count": 37,
     "metadata": {},
     "output_type": "execute_result"
    }
   ],
   "source": [
    "print(times.shape)\n",
    "times.head()"
   ]
  },
  {
   "cell_type": "code",
   "execution_count": 38,
   "id": "ac65432d-8774-4dd3-b4f2-b48f689aac1e",
   "metadata": {},
   "outputs": [],
   "source": [
    "data_frames = [location,severity,weather,times]"
   ]
  },
  {
   "cell_type": "code",
   "execution_count": 39,
   "id": "129962ad-9b82-4e26-a2cd-8236561bf22c",
   "metadata": {},
   "outputs": [],
   "source": [
    "from functools import reduce\n",
    "df_merged = reduce(lambda  left,right: pd.merge(left,right,on=['crash_id'],\n",
    "                                            how='outer'), data_frames)"
   ]
  },
  {
   "cell_type": "code",
   "execution_count": 40,
   "id": "ecb7933a-8b91-40a2-b11d-174c195bc3ab",
   "metadata": {},
   "outputs": [
    {
     "name": "stdout",
     "output_type": "stream",
     "text": [
      "(204898, 11)\n"
     ]
    },
    {
     "data": {
      "text/html": [
       "<div>\n",
       "<style scoped>\n",
       "    .dataframe tbody tr th:only-of-type {\n",
       "        vertical-align: middle;\n",
       "    }\n",
       "\n",
       "    .dataframe tbody tr th {\n",
       "        vertical-align: top;\n",
       "    }\n",
       "\n",
       "    .dataframe thead th {\n",
       "        text-align: right;\n",
       "    }\n",
       "</style>\n",
       "<table border=\"1\" class=\"dataframe\">\n",
       "  <thead>\n",
       "    <tr style=\"text-align: right;\">\n",
       "      <th></th>\n",
       "      <th>DEC_LAT</th>\n",
       "      <th>DEC_LONG</th>\n",
       "      <th>STREET_NAME</th>\n",
       "      <th>severity</th>\n",
       "      <th>ILLUMINATION</th>\n",
       "      <th>WEATHER</th>\n",
       "      <th>ROAD_CONDITION</th>\n",
       "      <th>CRASH_YEAR</th>\n",
       "      <th>DAY_OF_WEEK</th>\n",
       "      <th>HOUR_OF_DAY</th>\n",
       "      <th>date</th>\n",
       "    </tr>\n",
       "    <tr>\n",
       "      <th>crash_id</th>\n",
       "      <th></th>\n",
       "      <th></th>\n",
       "      <th></th>\n",
       "      <th></th>\n",
       "      <th></th>\n",
       "      <th></th>\n",
       "      <th></th>\n",
       "      <th></th>\n",
       "      <th></th>\n",
       "      <th></th>\n",
       "      <th></th>\n",
       "    </tr>\n",
       "  </thead>\n",
       "  <tbody>\n",
       "    <tr>\n",
       "      <th>2004000001</th>\n",
       "      <td>40.3234</td>\n",
       "      <td>-79.9404</td>\n",
       "      <td>LEWIS RUN RD</td>\n",
       "      <td>0</td>\n",
       "      <td>2.0</td>\n",
       "      <td>1.0</td>\n",
       "      <td>0.0</td>\n",
       "      <td>2004</td>\n",
       "      <td>5</td>\n",
       "      <td>2.0</td>\n",
       "      <td>2004-1</td>\n",
       "    </tr>\n",
       "    <tr>\n",
       "      <th>2004000010</th>\n",
       "      <td>40.3182</td>\n",
       "      <td>-79.9076</td>\n",
       "      <td>COAL VALLEY RD</td>\n",
       "      <td>1</td>\n",
       "      <td>1.0</td>\n",
       "      <td>1.0</td>\n",
       "      <td>6.0</td>\n",
       "      <td>2004</td>\n",
       "      <td>5</td>\n",
       "      <td>10.0</td>\n",
       "      <td>2004-1</td>\n",
       "    </tr>\n",
       "    <tr>\n",
       "      <th>2004000016</th>\n",
       "      <td>40.4886</td>\n",
       "      <td>-80.3371</td>\n",
       "      <td>CLINTON FRANKFORT RD</td>\n",
       "      <td>1</td>\n",
       "      <td>2.0</td>\n",
       "      <td>1.0</td>\n",
       "      <td>0.0</td>\n",
       "      <td>2004</td>\n",
       "      <td>5</td>\n",
       "      <td>18.0</td>\n",
       "      <td>2004-1</td>\n",
       "    </tr>\n",
       "    <tr>\n",
       "      <th>2004000022</th>\n",
       "      <td>NaN</td>\n",
       "      <td>NaN</td>\n",
       "      <td>NORTH BALPH AV</td>\n",
       "      <td>1</td>\n",
       "      <td>1.0</td>\n",
       "      <td>1.0</td>\n",
       "      <td>1.0</td>\n",
       "      <td>2004</td>\n",
       "      <td>6</td>\n",
       "      <td>9.0</td>\n",
       "      <td>2004-1</td>\n",
       "    </tr>\n",
       "    <tr>\n",
       "      <th>2004000030</th>\n",
       "      <td>NaN</td>\n",
       "      <td>NaN</td>\n",
       "      <td>THORNBERRY DR</td>\n",
       "      <td>0</td>\n",
       "      <td>3.0</td>\n",
       "      <td>1.0</td>\n",
       "      <td>0.0</td>\n",
       "      <td>2004</td>\n",
       "      <td>5</td>\n",
       "      <td>22.0</td>\n",
       "      <td>2004-1</td>\n",
       "    </tr>\n",
       "  </tbody>\n",
       "</table>\n",
       "</div>"
      ],
      "text/plain": [
       "            DEC_LAT  DEC_LONG           STREET_NAME severity  ILLUMINATION  \\\n",
       "crash_id                                                                     \n",
       "2004000001  40.3234  -79.9404          LEWIS RUN RD        0           2.0   \n",
       "2004000010  40.3182  -79.9076        COAL VALLEY RD        1           1.0   \n",
       "2004000016  40.4886  -80.3371  CLINTON FRANKFORT RD        1           2.0   \n",
       "2004000022      NaN       NaN        NORTH BALPH AV        1           1.0   \n",
       "2004000030      NaN       NaN         THORNBERRY DR        0           3.0   \n",
       "\n",
       "            WEATHER  ROAD_CONDITION  CRASH_YEAR  DAY_OF_WEEK  HOUR_OF_DAY  \\\n",
       "crash_id                                                                    \n",
       "2004000001      1.0             0.0        2004            5          2.0   \n",
       "2004000010      1.0             6.0        2004            5         10.0   \n",
       "2004000016      1.0             0.0        2004            5         18.0   \n",
       "2004000022      1.0             1.0        2004            6          9.0   \n",
       "2004000030      1.0             0.0        2004            5         22.0   \n",
       "\n",
       "              date  \n",
       "crash_id            \n",
       "2004000001  2004-1  \n",
       "2004000010  2004-1  \n",
       "2004000016  2004-1  \n",
       "2004000022  2004-1  \n",
       "2004000030  2004-1  "
      ]
     },
     "execution_count": 40,
     "metadata": {},
     "output_type": "execute_result"
    }
   ],
   "source": [
    "print(df_merged.shape)\n",
    "df_merged.head()"
   ]
  },
  {
   "cell_type": "code",
   "execution_count": 41,
   "id": "a7c10a99-527b-4f3b-a0b8-3a44ac741e6a",
   "metadata": {},
   "outputs": [],
   "source": [
    "df1 = df_merged.dropna()"
   ]
  },
  {
   "cell_type": "code",
   "execution_count": 42,
   "id": "3d73057a-6eda-414f-9749-953cf61d3e8d",
   "metadata": {},
   "outputs": [
    {
     "name": "stdout",
     "output_type": "stream",
     "text": [
      "(182627, 11)\n"
     ]
    },
    {
     "data": {
      "text/plain": [
       "lat              float64\n",
       "long             float64\n",
       "street            object\n",
       "severity          object\n",
       "illumination     float64\n",
       "weather          float64\n",
       "road_conditon    float64\n",
       "year               int64\n",
       "day                int64\n",
       "hour             float64\n",
       "date              object\n",
       "dtype: object"
      ]
     },
     "execution_count": 42,
     "metadata": {},
     "output_type": "execute_result"
    }
   ],
   "source": [
    "print(df1.shape)\n",
    "df1 = df1.rename(columns = {'DEC_LAT':'lat', \n",
    "                            'DEC_LONG':'long',\n",
    "                            'STREET_NAME':'street',\n",
    "                            'ILLUMINATION':\"illumination\",\n",
    "                            'WEATHER':'weather',\n",
    "                            'ROAD_CONDITION':'road_conditon',\n",
    "                            'DAY_OF_WEEK':'day',\n",
    "                            'HOUR_OF_DAY':'hour',\n",
    "                            'CRASH_YEAR':'year'\n",
    "                           })\n",
    "df1.dtypes"
   ]
  },
  {
   "cell_type": "code",
   "execution_count": 43,
   "id": "ad13958b-4b54-48df-be4a-351ad1015644",
   "metadata": {
    "tags": []
   },
   "outputs": [
    {
     "data": {
      "text/plain": [
       "<AxesSubplot:ylabel='crash_id'>"
      ]
     },
     "execution_count": 43,
     "metadata": {},
     "output_type": "execute_result"
    },
    {
     "data": {
      "image/png": "[encoded data removed]",
      "text/plain": [
       "<Figure size 432x288 with 1 Axes>"
      ]
     },
     "metadata": {
      "needs_background": "light"
     },
     "output_type": "display_data"
    }
   ],
   "source": [
    "sns.heatmap(df1.isnull(),yticklabels=False,cbar=False,cmap='viridis')"
   ]
  },
  {
   "cell_type": "code",
   "execution_count": 44,
   "id": "14d7e082-aa11-4083-a24f-8615fbacd235",
   "metadata": {},
   "outputs": [
    {
     "data": {
      "text/html": [
       "<div>\n",
       "<style scoped>\n",
       "    .dataframe tbody tr th:only-of-type {\n",
       "        vertical-align: middle;\n",
       "    }\n",
       "\n",
       "    .dataframe tbody tr th {\n",
       "        vertical-align: top;\n",
       "    }\n",
       "\n",
       "    .dataframe thead th {\n",
       "        text-align: right;\n",
       "    }\n",
       "</style>\n",
       "<table border=\"1\" class=\"dataframe\">\n",
       "  <thead>\n",
       "    <tr style=\"text-align: right;\">\n",
       "      <th></th>\n",
       "      <th>lat</th>\n",
       "      <th>long</th>\n",
       "      <th>street</th>\n",
       "      <th>severity</th>\n",
       "      <th>illumination</th>\n",
       "      <th>weather</th>\n",
       "      <th>road_conditon</th>\n",
       "      <th>year</th>\n",
       "      <th>day</th>\n",
       "      <th>hour</th>\n",
       "      <th>date</th>\n",
       "    </tr>\n",
       "    <tr>\n",
       "      <th>crash_id</th>\n",
       "      <th></th>\n",
       "      <th></th>\n",
       "      <th></th>\n",
       "      <th></th>\n",
       "      <th></th>\n",
       "      <th></th>\n",
       "      <th></th>\n",
       "      <th></th>\n",
       "      <th></th>\n",
       "      <th></th>\n",
       "      <th></th>\n",
       "    </tr>\n",
       "  </thead>\n",
       "  <tbody>\n",
       "    <tr>\n",
       "      <th>2004000001</th>\n",
       "      <td>40.3234</td>\n",
       "      <td>-79.9404</td>\n",
       "      <td>LEWIS RUN RD</td>\n",
       "      <td>0</td>\n",
       "      <td>2.0</td>\n",
       "      <td>1.0</td>\n",
       "      <td>0.0</td>\n",
       "      <td>2004</td>\n",
       "      <td>5</td>\n",
       "      <td>2.0</td>\n",
       "      <td>2004-1</td>\n",
       "    </tr>\n",
       "  </tbody>\n",
       "</table>\n",
       "</div>"
      ],
      "text/plain": [
       "                lat     long        street severity  illumination  weather  \\\n",
       "crash_id                                                                     \n",
       "2004000001  40.3234 -79.9404  LEWIS RUN RD        0           2.0      1.0   \n",
       "\n",
       "            road_conditon  year  day  hour    date  \n",
       "crash_id                                            \n",
       "2004000001            0.0  2004    5   2.0  2004-1  "
      ]
     },
     "execution_count": 44,
     "metadata": {},
     "output_type": "execute_result"
    }
   ],
   "source": [
    "df1.head(1)"
   ]
  },
  {
   "cell_type": "code",
   "execution_count": 45,
   "id": "ed80bce3-2f0c-4a9e-a42f-7c4158722ee7",
   "metadata": {},
   "outputs": [],
   "source": [
    "#df1['street'].value_counts.sort_values(ascending=False).head(3)\n",
    "most_frequent = pd.DataFrame(df1['street'].astype('str').value_counts().sort_values(ascending=False).head(10))\n"
   ]
  },
  {
   "cell_type": "code",
   "execution_count": 46,
   "id": "1caaf0c8-ea39-4e16-be50-2a02ec8382fd",
   "metadata": {},
   "outputs": [
    {
     "data": {
      "text/plain": [
       "<AxesSubplot:>"
      ]
     },
     "execution_count": 46,
     "metadata": {},
     "output_type": "execute_result"
    },
    {
     "data": {
      "image/png": "[encoded data removed]",
      "text/plain": [
       "<Figure size 432x288 with 1 Axes>"
      ]
     },
     "metadata": {
      "needs_background": "light"
     },
     "output_type": "display_data"
    }
   ],
   "source": [
    "most_frequent.plot.bar()"
   ]
  },
  {
   "cell_type": "code",
   "execution_count": 47,
   "id": "84c71908-a203-4d29-a747-d9a31a1cf250",
   "metadata": {},
   "outputs": [
    {
     "data": {
      "text/plain": [
       "<AxesSubplot:>"
      ]
     },
     "execution_count": 47,
     "metadata": {},
     "output_type": "execute_result"
    },
    {
     "data": {
      "image/png": "[encoded data removed]",
      "text/plain": [
       "<Figure size 432x288 with 1 Axes>"
      ]
     },
     "metadata": {
      "needs_background": "light"
     },
     "output_type": "display_data"
    }
   ],
   "source": [
    "most_rain = df1[df1['weather']== 1]\n",
    "most_frequent_rain = pd.DataFrame(most_rain['street'].astype('str').value_counts().sort_values(ascending=False).head(10))\n",
    "most_frequent_rain.plot.bar()"
   ]
  },
  {
   "cell_type": "code",
   "execution_count": 48,
   "id": "c9fe834a-528e-4d97-8b2a-77125a3e06b6",
   "metadata": {},
   "outputs": [
    {
     "data": {
      "text/plain": [
       "<AxesSubplot:>"
      ]
     },
     "execution_count": 48,
     "metadata": {},
     "output_type": "execute_result"
    },
    {
     "data": {
      "image/png": "[encoded data removed]",
      "text/plain": [
       "<Figure size 432x288 with 1 Axes>"
      ]
     },
     "metadata": {
      "needs_background": "light"
     },
     "output_type": "display_data"
    }
   ],
   "source": [
    "#ILLumination cleaning\n",
    "df1.illumination.value_counts().plot(kind = 'barh')"
   ]
  },
  {
   "cell_type": "code",
   "execution_count": 49,
   "id": "530436d5-71be-4239-a4a6-43f27f511afb",
   "metadata": {},
   "outputs": [],
   "source": [
    "# any numbers not equal to 1,2,3 not useful for daytime dummy column\n",
    "df1 = df1[df1.illumination != 8]\n",
    "df1 = df1[df1.illumination != 6]\n",
    "df1 = df1[df1.illumination != 5]\n",
    "df1 = df1[df1.illumination != 4]"
   ]
  },
  {
   "cell_type": "code",
   "execution_count": 50,
   "id": "33c36c8c-cd9b-4189-8673-28718acbd827",
   "metadata": {},
   "outputs": [],
   "source": [
    "# dummy variable for day time\n",
    "df1['day_n_nite_dummy'] = (df1['illumination'] == 1)"
   ]
  },
  {
   "cell_type": "code",
   "execution_count": 51,
   "id": "6e1787a9-f8fe-4fde-9488-43c3a684355c",
   "metadata": {},
   "outputs": [],
   "source": [
    "df1.to_csv('crash_clean.csv')"
   ]
  },
  {
   "cell_type": "code",
   "execution_count": 52,
   "id": "3457bb58-fc73-4712-814c-5d05df2330a1",
   "metadata": {},
   "outputs": [],
   "source": [
    "# want to create a certan measure of average day and nigtt times as it relates to hour "
   ]
  },
  {
   "cell_type": "markdown",
   "id": "0bb08874-793b-4d0a-a22d-41b0c88a3c1f",
   "metadata": {},
   "source": [
    "import os\n",
    "import numpy as np\n",
    "import pandas as pd\n",
    "from six.moves import urllib\n",
    "\n",
    "%matplotlib inline\n",
    "import matplotlib.pyplot as plt\n",
    "\n",
    "import seaborn as sns\n",
    "color = sns.color_palette()\n",
    "sns.set_style('darkgrid')\n",
    "\n",
    "import geopandas\n",
    "from shapely.geometry import *\n",
    "\n",
    "subDf = df1[['severity', 'long','lat']].dropna()\n",
    "subDf = subDf[(subDf.long >-80.1) & (subDf.long < -79.85)]\n",
    "subDf = subDf[(subDf.lat >40.36) & (subDf.lat < 40.5)]\n",
    "\n",
    "fig = plt.figure(figsize=(7,7))\n",
    "ax = fig.add_subplot(1, 1, 1) # nrows, ncols, index\n",
    "\n",
    "ax.plot(-79.96,40.47,'ro',alpha=1) #inoccuous point so we can output the legend\n",
    "ax.legend(['severity'],fontsize = 12)\n",
    "ax.plot(subDf.long[subDf.severity == '1'].values, subDf.lat[subDf.severity == '1'].values,'r.',alpha=.025)\n",
    "ax.plot(-79.9959,40.4406,'ko')\n",
    "\n",
    "ax.annotate('Pittsburgh',(-79.9959,40.4406),xytext=(-79.994,40.445),fontsize=16)\n",
    "ax.set_aspect('equal')\n",
    "ax.set_facecolor((1,1,1))1\n",
    "\n",
    "plt.title('A Map of Pittsburgh by Crashes', fontsize = 16)\n",
    "plt.ylabel('Latitude', fontsize=12)\n",
    "plt.xlabel('Longitude', fontsize=12)\n",
    "plt.savefig('pittsburgh.pdf', dpi=300)"
   ]
  },
  {
   "cell_type": "markdown",
   "id": "1e3e8bea-95e4-423a-adf7-6ff9fe0abc7a",
   "metadata": {},
   "source": [
    "subDf = df1[['long','lat']].dropna()\n",
    "subDf = subDf[(subDf.long >-80.1) & (subDf.long < -79.85)]\n",
    "subDf = subDf[(subDf.lat >40.36) & (subDf.lat < 40.5)]\n",
    "\n",
    "fig = plt.figure(figsize=(7,7))\n",
    "ax = fig.add_subplot(1, 1, 1) # nrows, ncols, index\n",
    "\n",
    "ax.plot(-79.96,40.47,'ro',alpha=1) #inoccuous point so we can output the legend\n",
    "#ax.legend(['severity'],fontsize = 12)\n",
    "ax.plot(subDf.long.values, subDf.lat.values,'r.',alpha=.025)\n",
    "ax.plot(-79.9959,40.4406,'ko')\n",
    "\n",
    "ax.annotate('Pittsburgh',(-79.9959,40.4406),xytext=(-79.994,40.445),fontsize=16)\n",
    "ax.set_aspect('equal')\n",
    "ax.set_facecolor((1,1,1))\n",
    "\n",
    "plt.title('A Map of Pittsburgh by Crashes', fontsize = 16)\n",
    "plt.ylabel('Latitude', fontsize=12)\n",
    "plt.xlabel('Longitude', fontsize=12)\n",
    "plt.savefig('pittsburgh.jpeg', dpi=300)"
   ]
  },
  {
   "cell_type": "code",
   "execution_count": null,
   "id": "4519d202-caef-48c7-adbc-df7bea89ecd2",
   "metadata": {},
   "outputs": [],
   "source": []
  }
 ],
 "metadata": {
  "kernelspec": {
   "display_name": "Python 3",
   "language": "python",
   "name": "python3"
  },
  "language_info": {
   "codemirror_mode": {
    "name": "ipython",
    "version": 3
   },
   "file_extension": ".py",
   "mimetype": "text/x-python",
   "name": "python",
   "nbconvert_exporter": "python",
   "pygments_lexer": "ipython3",
   "version": "3.8.8"
  }
 },
 "nbformat": 4,
 "nbformat_minor": 5
}
